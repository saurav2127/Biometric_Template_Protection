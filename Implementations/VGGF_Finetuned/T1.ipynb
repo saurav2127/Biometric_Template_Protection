{
  "nbformat": 4,
  "nbformat_minor": 0,
  "metadata": {
    "colab": {
      "provenance": []
    },
    "kernelspec": {
      "name": "python3",
      "display_name": "Python 3"
    },
    "language_info": {
      "name": "python"
    }
  },
  "cells": [
    {
      "cell_type": "markdown",
      "metadata": {
        "id": "Q8Or1SKRkn_2"
      },
      "source": [
        "#1. Feature Extraction"
      ]
    },
    {
      "cell_type": "code",
      "execution_count": null,
      "metadata": {
        "colab": {
          "base_uri": "https://localhost:8080/",
          "height": 693
        },
        "id": "bI1bHBliVvEr",
        "outputId": "a385203d-a638-471e-fccf-f11e9c55ac49"
      },
      "outputs": [
        {
          "name": "stdout",
          "output_type": "stream",
          "text": [
            "1/1 [==============================] - 1s 885ms/step\n",
            "(1, 4096)\n",
            "[[1.3299240e-23 2.5975960e-22 1.4379074e-17 ... 2.2839909e-11\n",
            "  3.7435866e-18 2.6188448e-32]]\n",
            "1/1 [==============================] - 1s 539ms/step\n",
            "(1, 4096)\n",
            "[[4.7294646e-26 1.1239932e-19 1.2265720e-23 ... 2.9466646e-06\n",
            "  7.7439019e-22 1.3406199e-31]]\n",
            "1/1 [==============================] - 1s 941ms/step\n",
            "(1, 4096)\n",
            "[[3.6195425e-17 1.6869975e-17 8.3841530e-18 ... 3.8083839e-10\n",
            "  5.7781458e-17 4.1858090e-30]]\n",
            "1/1 [==============================] - 1s 994ms/step\n",
            "(1, 4096)\n",
            "[[1.3232242e-29 1.4275868e-26 1.2000888e-15 ... 3.9470320e-05\n",
            "  8.0642989e-17 2.3948514e-30]]\n"
          ]
        },
        {
          "ename": "KeyboardInterrupt",
          "evalue": "ignored",
          "output_type": "error",
          "traceback": [
            "\u001b[0;31m---------------------------------------------------------------------------\u001b[0m",
            "\u001b[0;31mKeyboardInterrupt\u001b[0m                         Traceback (most recent call last)",
            "\u001b[0;32m<ipython-input-9-60cab959dff0>\u001b[0m in \u001b[0;36m<cell line: 4>\u001b[0;34m()\u001b[0m\n\u001b[1;32m     20\u001b[0m     \u001b[0mx\u001b[0m \u001b[0;34m=\u001b[0m \u001b[0mpreprocess_input\u001b[0m\u001b[0;34m(\u001b[0m\u001b[0mx\u001b[0m\u001b[0;34m)\u001b[0m\u001b[0;34m\u001b[0m\u001b[0;34m\u001b[0m\u001b[0m\n\u001b[1;32m     21\u001b[0m \u001b[0;34m\u001b[0m\u001b[0m\n\u001b[0;32m---> 22\u001b[0;31m     \u001b[0mfeatures\u001b[0m \u001b[0;34m=\u001b[0m \u001b[0mmodel\u001b[0m\u001b[0;34m.\u001b[0m\u001b[0mpredict\u001b[0m\u001b[0;34m(\u001b[0m\u001b[0mx\u001b[0m\u001b[0;34m)\u001b[0m\u001b[0;34m\u001b[0m\u001b[0;34m\u001b[0m\u001b[0m\n\u001b[0m\u001b[1;32m     23\u001b[0m     \u001b[0mprint\u001b[0m\u001b[0;34m(\u001b[0m\u001b[0mfeatures\u001b[0m\u001b[0;34m.\u001b[0m\u001b[0mshape\u001b[0m\u001b[0;34m)\u001b[0m\u001b[0;34m\u001b[0m\u001b[0;34m\u001b[0m\u001b[0m\n\u001b[1;32m     24\u001b[0m     \u001b[0mprint\u001b[0m\u001b[0;34m(\u001b[0m\u001b[0mfeatures\u001b[0m\u001b[0;34m)\u001b[0m\u001b[0;34m\u001b[0m\u001b[0;34m\u001b[0m\u001b[0m\n",
            "\u001b[0;32m/usr/local/lib/python3.10/dist-packages/keras/utils/traceback_utils.py\u001b[0m in \u001b[0;36merror_handler\u001b[0;34m(*args, **kwargs)\u001b[0m\n\u001b[1;32m     63\u001b[0m         \u001b[0mfiltered_tb\u001b[0m \u001b[0;34m=\u001b[0m \u001b[0;32mNone\u001b[0m\u001b[0;34m\u001b[0m\u001b[0;34m\u001b[0m\u001b[0m\n\u001b[1;32m     64\u001b[0m         \u001b[0;32mtry\u001b[0m\u001b[0;34m:\u001b[0m\u001b[0;34m\u001b[0m\u001b[0;34m\u001b[0m\u001b[0m\n\u001b[0;32m---> 65\u001b[0;31m             \u001b[0;32mreturn\u001b[0m \u001b[0mfn\u001b[0m\u001b[0;34m(\u001b[0m\u001b[0;34m*\u001b[0m\u001b[0margs\u001b[0m\u001b[0;34m,\u001b[0m \u001b[0;34m**\u001b[0m\u001b[0mkwargs\u001b[0m\u001b[0;34m)\u001b[0m\u001b[0;34m\u001b[0m\u001b[0;34m\u001b[0m\u001b[0m\n\u001b[0m\u001b[1;32m     66\u001b[0m         \u001b[0;32mexcept\u001b[0m \u001b[0mException\u001b[0m \u001b[0;32mas\u001b[0m \u001b[0me\u001b[0m\u001b[0;34m:\u001b[0m\u001b[0;34m\u001b[0m\u001b[0;34m\u001b[0m\u001b[0m\n\u001b[1;32m     67\u001b[0m             \u001b[0mfiltered_tb\u001b[0m \u001b[0;34m=\u001b[0m \u001b[0m_process_traceback_frames\u001b[0m\u001b[0;34m(\u001b[0m\u001b[0me\u001b[0m\u001b[0;34m.\u001b[0m\u001b[0m__traceback__\u001b[0m\u001b[0;34m)\u001b[0m\u001b[0;34m\u001b[0m\u001b[0;34m\u001b[0m\u001b[0m\n",
            "\u001b[0;32m/usr/local/lib/python3.10/dist-packages/keras/engine/training.py\u001b[0m in \u001b[0;36mpredict\u001b[0;34m(self, x, batch_size, verbose, steps, callbacks, max_queue_size, workers, use_multiprocessing)\u001b[0m\n\u001b[1;32m   2380\u001b[0m                     \u001b[0;32mfor\u001b[0m \u001b[0mstep\u001b[0m \u001b[0;32min\u001b[0m \u001b[0mdata_handler\u001b[0m\u001b[0;34m.\u001b[0m\u001b[0msteps\u001b[0m\u001b[0;34m(\u001b[0m\u001b[0;34m)\u001b[0m\u001b[0;34m:\u001b[0m\u001b[0;34m\u001b[0m\u001b[0;34m\u001b[0m\u001b[0m\n\u001b[1;32m   2381\u001b[0m                         \u001b[0mcallbacks\u001b[0m\u001b[0;34m.\u001b[0m\u001b[0mon_predict_batch_begin\u001b[0m\u001b[0;34m(\u001b[0m\u001b[0mstep\u001b[0m\u001b[0;34m)\u001b[0m\u001b[0;34m\u001b[0m\u001b[0;34m\u001b[0m\u001b[0m\n\u001b[0;32m-> 2382\u001b[0;31m                         \u001b[0mtmp_batch_outputs\u001b[0m \u001b[0;34m=\u001b[0m \u001b[0mself\u001b[0m\u001b[0;34m.\u001b[0m\u001b[0mpredict_function\u001b[0m\u001b[0;34m(\u001b[0m\u001b[0miterator\u001b[0m\u001b[0;34m)\u001b[0m\u001b[0;34m\u001b[0m\u001b[0;34m\u001b[0m\u001b[0m\n\u001b[0m\u001b[1;32m   2383\u001b[0m                         \u001b[0;32mif\u001b[0m \u001b[0mdata_handler\u001b[0m\u001b[0;34m.\u001b[0m\u001b[0mshould_sync\u001b[0m\u001b[0;34m:\u001b[0m\u001b[0;34m\u001b[0m\u001b[0;34m\u001b[0m\u001b[0m\n\u001b[1;32m   2384\u001b[0m                             \u001b[0mcontext\u001b[0m\u001b[0;34m.\u001b[0m\u001b[0masync_wait\u001b[0m\u001b[0;34m(\u001b[0m\u001b[0;34m)\u001b[0m\u001b[0;34m\u001b[0m\u001b[0;34m\u001b[0m\u001b[0m\n",
            "\u001b[0;32m/usr/local/lib/python3.10/dist-packages/tensorflow/python/util/traceback_utils.py\u001b[0m in \u001b[0;36merror_handler\u001b[0;34m(*args, **kwargs)\u001b[0m\n\u001b[1;32m    148\u001b[0m     \u001b[0mfiltered_tb\u001b[0m \u001b[0;34m=\u001b[0m \u001b[0;32mNone\u001b[0m\u001b[0;34m\u001b[0m\u001b[0;34m\u001b[0m\u001b[0m\n\u001b[1;32m    149\u001b[0m     \u001b[0;32mtry\u001b[0m\u001b[0;34m:\u001b[0m\u001b[0;34m\u001b[0m\u001b[0;34m\u001b[0m\u001b[0m\n\u001b[0;32m--> 150\u001b[0;31m       \u001b[0;32mreturn\u001b[0m \u001b[0mfn\u001b[0m\u001b[0;34m(\u001b[0m\u001b[0;34m*\u001b[0m\u001b[0margs\u001b[0m\u001b[0;34m,\u001b[0m \u001b[0;34m**\u001b[0m\u001b[0mkwargs\u001b[0m\u001b[0;34m)\u001b[0m\u001b[0;34m\u001b[0m\u001b[0;34m\u001b[0m\u001b[0m\n\u001b[0m\u001b[1;32m    151\u001b[0m     \u001b[0;32mexcept\u001b[0m \u001b[0mException\u001b[0m \u001b[0;32mas\u001b[0m \u001b[0me\u001b[0m\u001b[0;34m:\u001b[0m\u001b[0;34m\u001b[0m\u001b[0;34m\u001b[0m\u001b[0m\n\u001b[1;32m    152\u001b[0m       \u001b[0mfiltered_tb\u001b[0m \u001b[0;34m=\u001b[0m \u001b[0m_process_traceback_frames\u001b[0m\u001b[0;34m(\u001b[0m\u001b[0me\u001b[0m\u001b[0;34m.\u001b[0m\u001b[0m__traceback__\u001b[0m\u001b[0;34m)\u001b[0m\u001b[0;34m\u001b[0m\u001b[0;34m\u001b[0m\u001b[0m\n",
            "\u001b[0;32m/usr/local/lib/python3.10/dist-packages/tensorflow/python/eager/polymorphic_function/polymorphic_function.py\u001b[0m in \u001b[0;36m__call__\u001b[0;34m(self, *args, **kwds)\u001b[0m\n\u001b[1;32m    892\u001b[0m \u001b[0;34m\u001b[0m\u001b[0m\n\u001b[1;32m    893\u001b[0m       \u001b[0;32mwith\u001b[0m \u001b[0mOptionalXlaContext\u001b[0m\u001b[0;34m(\u001b[0m\u001b[0mself\u001b[0m\u001b[0;34m.\u001b[0m\u001b[0m_jit_compile\u001b[0m\u001b[0;34m)\u001b[0m\u001b[0;34m:\u001b[0m\u001b[0;34m\u001b[0m\u001b[0;34m\u001b[0m\u001b[0m\n\u001b[0;32m--> 894\u001b[0;31m         \u001b[0mresult\u001b[0m \u001b[0;34m=\u001b[0m \u001b[0mself\u001b[0m\u001b[0;34m.\u001b[0m\u001b[0m_call\u001b[0m\u001b[0;34m(\u001b[0m\u001b[0;34m*\u001b[0m\u001b[0margs\u001b[0m\u001b[0;34m,\u001b[0m \u001b[0;34m**\u001b[0m\u001b[0mkwds\u001b[0m\u001b[0;34m)\u001b[0m\u001b[0;34m\u001b[0m\u001b[0;34m\u001b[0m\u001b[0m\n\u001b[0m\u001b[1;32m    895\u001b[0m \u001b[0;34m\u001b[0m\u001b[0m\n\u001b[1;32m    896\u001b[0m       \u001b[0mnew_tracing_count\u001b[0m \u001b[0;34m=\u001b[0m \u001b[0mself\u001b[0m\u001b[0;34m.\u001b[0m\u001b[0mexperimental_get_tracing_count\u001b[0m\u001b[0;34m(\u001b[0m\u001b[0;34m)\u001b[0m\u001b[0;34m\u001b[0m\u001b[0;34m\u001b[0m\u001b[0m\n",
            "\u001b[0;32m/usr/local/lib/python3.10/dist-packages/tensorflow/python/eager/polymorphic_function/polymorphic_function.py\u001b[0m in \u001b[0;36m_call\u001b[0;34m(self, *args, **kwds)\u001b[0m\n\u001b[1;32m    931\u001b[0m       \u001b[0;31m# In this case we have not created variables on the first call. So we can\u001b[0m\u001b[0;34m\u001b[0m\u001b[0;34m\u001b[0m\u001b[0m\n\u001b[1;32m    932\u001b[0m       \u001b[0;31m# run the first trace but we should fail if variables are created.\u001b[0m\u001b[0;34m\u001b[0m\u001b[0;34m\u001b[0m\u001b[0m\n\u001b[0;32m--> 933\u001b[0;31m       \u001b[0mresults\u001b[0m \u001b[0;34m=\u001b[0m \u001b[0mself\u001b[0m\u001b[0;34m.\u001b[0m\u001b[0m_variable_creation_fn\u001b[0m\u001b[0;34m(\u001b[0m\u001b[0;34m*\u001b[0m\u001b[0margs\u001b[0m\u001b[0;34m,\u001b[0m \u001b[0;34m**\u001b[0m\u001b[0mkwds\u001b[0m\u001b[0;34m)\u001b[0m\u001b[0;34m\u001b[0m\u001b[0;34m\u001b[0m\u001b[0m\n\u001b[0m\u001b[1;32m    934\u001b[0m       \u001b[0;32mif\u001b[0m \u001b[0mself\u001b[0m\u001b[0;34m.\u001b[0m\u001b[0m_created_variables\u001b[0m \u001b[0;32mand\u001b[0m \u001b[0;32mnot\u001b[0m \u001b[0mALLOW_DYNAMIC_VARIABLE_CREATION\u001b[0m\u001b[0;34m:\u001b[0m\u001b[0;34m\u001b[0m\u001b[0;34m\u001b[0m\u001b[0m\n\u001b[1;32m    935\u001b[0m         raise ValueError(\"Creating variables on a non-first call to a function\"\n",
            "\u001b[0;32m/usr/local/lib/python3.10/dist-packages/tensorflow/python/eager/polymorphic_function/tracing_compiler.py\u001b[0m in \u001b[0;36m__call__\u001b[0;34m(self, *args, **kwargs)\u001b[0m\n\u001b[1;32m    141\u001b[0m       (concrete_function,\n\u001b[1;32m    142\u001b[0m        filtered_flat_args) = self._maybe_define_function(args, kwargs)\n\u001b[0;32m--> 143\u001b[0;31m     return concrete_function._call_flat(\n\u001b[0m\u001b[1;32m    144\u001b[0m         filtered_flat_args, captured_inputs=concrete_function.captured_inputs)  # pylint: disable=protected-access\n\u001b[1;32m    145\u001b[0m \u001b[0;34m\u001b[0m\u001b[0m\n",
            "\u001b[0;32m/usr/local/lib/python3.10/dist-packages/tensorflow/python/eager/polymorphic_function/monomorphic_function.py\u001b[0m in \u001b[0;36m_call_flat\u001b[0;34m(self, args, captured_inputs, cancellation_manager)\u001b[0m\n\u001b[1;32m   1755\u001b[0m         and executing_eagerly):\n\u001b[1;32m   1756\u001b[0m       \u001b[0;31m# No tape is watching; skip to running the function.\u001b[0m\u001b[0;34m\u001b[0m\u001b[0;34m\u001b[0m\u001b[0m\n\u001b[0;32m-> 1757\u001b[0;31m       return self._build_call_outputs(self._inference_function.call(\n\u001b[0m\u001b[1;32m   1758\u001b[0m           ctx, args, cancellation_manager=cancellation_manager))\n\u001b[1;32m   1759\u001b[0m     forward_backward = self._select_forward_and_backward_functions(\n",
            "\u001b[0;32m/usr/local/lib/python3.10/dist-packages/tensorflow/python/eager/polymorphic_function/monomorphic_function.py\u001b[0m in \u001b[0;36mcall\u001b[0;34m(self, ctx, args, cancellation_manager)\u001b[0m\n\u001b[1;32m    379\u001b[0m       \u001b[0;32mwith\u001b[0m \u001b[0m_InterpolateFunctionError\u001b[0m\u001b[0;34m(\u001b[0m\u001b[0mself\u001b[0m\u001b[0;34m)\u001b[0m\u001b[0;34m:\u001b[0m\u001b[0;34m\u001b[0m\u001b[0;34m\u001b[0m\u001b[0m\n\u001b[1;32m    380\u001b[0m         \u001b[0;32mif\u001b[0m \u001b[0mcancellation_manager\u001b[0m \u001b[0;32mis\u001b[0m \u001b[0;32mNone\u001b[0m\u001b[0;34m:\u001b[0m\u001b[0;34m\u001b[0m\u001b[0;34m\u001b[0m\u001b[0m\n\u001b[0;32m--> 381\u001b[0;31m           outputs = execute.execute(\n\u001b[0m\u001b[1;32m    382\u001b[0m               \u001b[0mstr\u001b[0m\u001b[0;34m(\u001b[0m\u001b[0mself\u001b[0m\u001b[0;34m.\u001b[0m\u001b[0msignature\u001b[0m\u001b[0;34m.\u001b[0m\u001b[0mname\u001b[0m\u001b[0;34m)\u001b[0m\u001b[0;34m,\u001b[0m\u001b[0;34m\u001b[0m\u001b[0;34m\u001b[0m\u001b[0m\n\u001b[1;32m    383\u001b[0m               \u001b[0mnum_outputs\u001b[0m\u001b[0;34m=\u001b[0m\u001b[0mself\u001b[0m\u001b[0;34m.\u001b[0m\u001b[0m_num_outputs\u001b[0m\u001b[0;34m,\u001b[0m\u001b[0;34m\u001b[0m\u001b[0;34m\u001b[0m\u001b[0m\n",
            "\u001b[0;32m/usr/local/lib/python3.10/dist-packages/tensorflow/python/eager/execute.py\u001b[0m in \u001b[0;36mquick_execute\u001b[0;34m(op_name, num_outputs, inputs, attrs, ctx, name)\u001b[0m\n\u001b[1;32m     50\u001b[0m   \u001b[0;32mtry\u001b[0m\u001b[0;34m:\u001b[0m\u001b[0;34m\u001b[0m\u001b[0;34m\u001b[0m\u001b[0m\n\u001b[1;32m     51\u001b[0m     \u001b[0mctx\u001b[0m\u001b[0;34m.\u001b[0m\u001b[0mensure_initialized\u001b[0m\u001b[0;34m(\u001b[0m\u001b[0;34m)\u001b[0m\u001b[0;34m\u001b[0m\u001b[0;34m\u001b[0m\u001b[0m\n\u001b[0;32m---> 52\u001b[0;31m     tensors = pywrap_tfe.TFE_Py_Execute(ctx._handle, device_name, op_name,\n\u001b[0m\u001b[1;32m     53\u001b[0m                                         inputs, attrs, num_outputs)\n\u001b[1;32m     54\u001b[0m   \u001b[0;32mexcept\u001b[0m \u001b[0mcore\u001b[0m\u001b[0;34m.\u001b[0m\u001b[0m_NotOkStatusException\u001b[0m \u001b[0;32mas\u001b[0m \u001b[0me\u001b[0m\u001b[0;34m:\u001b[0m\u001b[0;34m\u001b[0m\u001b[0;34m\u001b[0m\u001b[0m\n",
            "\u001b[0;31mKeyboardInterrupt\u001b[0m: "
          ]
        }
      ],
      "source": [
        "#use the model to predict and store the output 4096 dimensional vector output to a text file\n",
        "if path.exists(feature_path) == False:\n",
        "    os.mkdir(feature_path)\n",
        "\n",
        "for type in face_types:\n",
        "\n",
        "  if (type == '.DS_Store'):\n",
        "      continue\n",
        "\n",
        "  all_faces = os.listdir(data_path + '/' + type)\n",
        "\n",
        "  for face in all_faces:\n",
        "\n",
        "    if (face == '.DS_Store'):\n",
        "      continue\n",
        "\n",
        "    img_path = str(data_path + '/' + type + '/' + face)\n",
        "    img = image.load_img(img_path, target_size=(224,224))\n",
        "    x = image.img_to_array(img)\n",
        "    x = np.expand_dims(x, axis = 0)\n",
        "    x = preprocess_input(x)\n",
        "\n",
        "    features = model.predict(x) #features is the 4096 dimensional vector\n",
        "    print(features.shape) #(1, 4096)\n",
        "    print(features)\n",
        "\n",
        "    type_path = str(feature_path + '/' + type)\n",
        "    if path.exists(type_path) == False:\n",
        "      os.mkdir(type_path)\n",
        "\n",
        "    filename = str(feature_path + '/' + type + '/' + face + '.txt')\n",
        "     #saving the feature vector a text file\n",
        "    with open(filename,\"w\") as f:\n",
        "      Array = np.array(features)\n",
        "      np.savetxt(filename,Array)"
      ]
    },
    {
      "cell_type": "markdown",
      "metadata": {
        "id": "2s7mxsiICjsw"
      },
      "source": [
        "#2. Computing similarity scores"
      ]
    },
    {
      "cell_type": "code",
      "execution_count": null,
      "metadata": {
        "id": "yx5X0XkbjM6C"
      },
      "outputs": [],
      "source": [
        "#function to compute normalised cosine similarity score\n",
        "def similarity(A, B):\n",
        "  cosine = np.dot(A,B)/(norm(A)*norm(B))\n",
        "  return cosine"
      ]
    },
    {
      "cell_type": "code",
      "execution_count": null,
      "metadata": {
        "colab": {
          "base_uri": "https://localhost:8080/"
        },
        "id": "9hwEedOodfUz",
        "outputId": "7a259d41-2166-4cb1-c0fc-3f2f086e78fa"
      },
      "outputs": [
        {
          "name": "stdout",
          "output_type": "stream",
          "text": [
            "200\n"
          ]
        }
      ],
      "source": [
        "#loop to compute the number of faces in each category\n",
        "for i in range(0,len(face_types)):\n",
        "  faces_in_category.append(0)\n",
        "\n",
        "print(len(faces_in_category))\n",
        "\n",
        "for type in face_types:\n",
        "  \n",
        "  if (type == '.DS_Store'):\n",
        "    continue\n",
        "\n",
        "  all_faces = os.listdir(data_path + '/' + type)\n",
        "  faces_in_category[int(type)-1] = len(all_faces)\n"
      ]
    },
    {
      "cell_type": "markdown",
      "metadata": {
        "id": "9KpQDe27k8eX"
      },
      "source": [
        "Genuine Attempts"
      ]
    },
    {
      "cell_type": "code",
      "execution_count": null,
      "metadata": {
        "id": "EuGlVChVcFu8"
      },
      "outputs": [],
      "source": [
        "#loop to compute all the pairs for genuine attempts\n",
        "for type in face_types:\n",
        "\n",
        "  if (type == '.DS_Store'):\n",
        "    continue\n",
        "\n",
        "  all_faces = os.listdir(data_path + '/' + type)\n",
        "\n",
        "  for i in range(0,len(all_faces)-1):\n",
        "    for j in range(i+1,len(all_faces)):\n",
        "      if(i==j):\n",
        "        continue\n",
        "      if(all_faces[i]=='.DS_Store'):\n",
        "        continue\n",
        "      if(all_faces[j]=='.DS_Store'):\n",
        "        continue\n",
        "      genuine_attempts[int(type)-1].append((all_faces[i],all_faces[j]))"
      ]
    },
    {
      "cell_type": "code",
      "execution_count": null,
      "metadata": {
        "id": "xqQCo4ollVfy"
      },
      "outputs": [],
      "source": [
        "#creating directory for storing similarity score\n",
        "if path.exists(SS_path) == False:\n",
        "  os.mkdir(SS_path)\n",
        "\n",
        "#creating directory for storing genuine similarity score\n",
        "if path.exists(genuine_path) == False:\n",
        "  os.mkdir(genuine_path)\n",
        "\n",
        "#creating directory for storing imposter similarity score\n",
        "if path.exists(imposter_path) == False:\n",
        "  os.mkdir(imposter_path)"
      ]
    },
    {
      "cell_type": "code",
      "execution_count": null,
      "metadata": {
        "id": "eySZGb8zjDm8"
      },
      "outputs": [],
      "source": [
        "#computing the similarity scores for the genuine pairs and storing it to a text file \n",
        "for type in range(0, len(face_types)):\n",
        "  \n",
        "  pair_list = genuine_attempts[type]\n",
        "  \n",
        "  for pair in pair_list:\n",
        "\n",
        "    file1 = str(FV_path + '/' + str(type+1) + \"/\" + str(pair[0]) + '.txt')\n",
        "    file2 = str(FV_path + '/' + str(type+1) + \"/\" + str(pair[1]) + '.txt')\n",
        "\n",
        "    #loading feature vectors from the files\n",
        "    FV1 = np.loadtxt(file1,dtype=float)\n",
        "    FV2 = np.loadtxt(file2,dtype=float)\n",
        "\n",
        "    #invoking the function to compute similarity score\n",
        "    similarity_score = similarity(FV1, FV2)\n",
        "\n",
        "    type_save_path = str(genuine_path + '/' + str(type+1))\n",
        "\n",
        "    if path.exists(type_save_path) == False:\n",
        "      os.mkdir(type_save_path)\n",
        "    \n",
        "    #writing the similarity score to a text file\n",
        "    save_score_file= str(type_save_path + '/' + str(pair[0]) + '_' + str(pair[1]) + '.txt')\n",
        "    with open(save_score_file,\"w\") as f:\n",
        "      f.write(str(similarity_score))"
      ]
    },
    {
      "cell_type": "code",
      "execution_count": null,
      "metadata": {
        "id": "_D4UHb65qbEe"
      },
      "outputs": [],
      "source": [
        "#loop for calcutaing the number of genuine attempts which have a similarity score greater than threshold\n",
        "for iteration in range(0,101):\n",
        "\n",
        "  threshold = iteration / 100\n",
        "  current_count = 0\n",
        "\n",
        "  for type in face_types:\n",
        "    type_scores = os.listdir(SS_path + '/' + 'genuine' + '/' + str(type))\n",
        "    for score_file in type_scores:\n",
        "      filename = SS_path + '/' + 'genuine' + '/' + str(type) + '/' + score_file\n",
        "      with open(filename,'r') as f:\n",
        "        score = float(f.read())\n",
        "        if (score >= threshold):\n",
        "          current_count = current_count + 1\n",
        "\n",
        "  num_of_genuine_passed.append((current_count,threshold))"
      ]
    },
    {
      "cell_type": "code",
      "execution_count": null,
      "metadata": {
        "id": "qXviYK0f--kC"
      },
      "outputs": [],
      "source": [
        "#calculating the total number of genuine attempts\n",
        "for i in range(0, len(face_types)):\n",
        "  total_genuine_attempts = total_genuine_attempts + len(genuine_attempts[i])"
      ]
    },
    {
      "cell_type": "code",
      "execution_count": null,
      "metadata": {
        "colab": {
          "base_uri": "https://localhost:8080/"
        },
        "id": "OOfo_jCvW9Fu",
        "outputId": "6d1ab9ed-4504-424a-a55f-ab29d3c94ee5"
      },
      "outputs": [
        {
          "name": "stdout",
          "output_type": "stream",
          "text": [
            "1200\n"
          ]
        }
      ],
      "source": [
        "print(total_genuine_attempts)"
      ]
    },
    {
      "cell_type": "code",
      "execution_count": null,
      "metadata": {
        "id": "8MO7Rjzb_fyQ"
      },
      "outputs": [],
      "source": [
        "#computing the GAR values for a particular threshold\n",
        "for num_passed_tuple in num_of_genuine_passed:\n",
        "  \n",
        "  num = num_passed_tuple[0]\n",
        "  threshold = num_passed_tuple[1]\n",
        "\n",
        "  GAR = num / total_genuine_attempts\n",
        "\n",
        "  GARs.append((GAR, threshold))"
      ]
    },
    {
      "cell_type": "code",
      "execution_count": null,
      "metadata": {
        "id": "_kyBOqAqACcT"
      },
      "outputs": [],
      "source": [
        "#computing the FRR values for a particular threshold\n",
        "for GAR_tuple in GARs:\n",
        "  GAR = GAR_tuple[0]\n",
        "  threshold = GAR_tuple[1]\n",
        "  \n",
        "  FRR = 1 - GAR\n",
        "\n",
        "  FRRs.append((FRR, threshold))"
      ]
    },
    {
      "cell_type": "code",
      "execution_count": null,
      "metadata": {
        "colab": {
          "base_uri": "https://localhost:8080/"
        },
        "id": "k4J8WmmBWyYJ",
        "outputId": "285d1175-a2a8-4d96-e998-0875e9afb38e"
      },
      "outputs": [
        {
          "name": "stdout",
          "output_type": "stream",
          "text": [
            "[(1.0, 0.0), (0.4483333333333333, 0.01), (0.4083333333333333, 0.02), (0.38666666666666666, 0.03), (0.37083333333333335, 0.04), (0.35583333333333333, 0.05), (0.3466666666666667, 0.06), (0.33666666666666667, 0.07), (0.33, 0.08), (0.325, 0.09), (0.32083333333333336, 0.1), (0.3125, 0.11), (0.3075, 0.12), (0.30583333333333335, 0.13), (0.3025, 0.14), (0.3016666666666667, 0.15), (0.29583333333333334, 0.16), (0.2916666666666667, 0.17), (0.29083333333333333, 0.18), (0.28583333333333333, 0.19), (0.2825, 0.2), (0.2758333333333333, 0.21), (0.2733333333333333, 0.22), (0.2708333333333333, 0.23), (0.2708333333333333, 0.24), (0.2683333333333333, 0.25), (0.26666666666666666, 0.26), (0.26416666666666666, 0.27), (0.2625, 0.28), (0.26166666666666666, 0.29), (0.2608333333333333, 0.3), (0.25916666666666666, 0.31), (0.255, 0.32), (0.2525, 0.33), (0.2475, 0.34), (0.2475, 0.35), (0.2475, 0.36), (0.24416666666666667, 0.37), (0.24333333333333335, 0.38), (0.24166666666666667, 0.39), (0.24083333333333334, 0.4), (0.24, 0.41), (0.23833333333333334, 0.42), (0.23666666666666666, 0.43), (0.23666666666666666, 0.44), (0.23583333333333334, 0.45), (0.23083333333333333, 0.46), (0.22916666666666666, 0.47), (0.22666666666666666, 0.48), (0.22666666666666666, 0.49), (0.225, 0.5), (0.22333333333333333, 0.51), (0.22333333333333333, 0.52), (0.22333333333333333, 0.53), (0.2225, 0.54), (0.22083333333333333, 0.55), (0.22, 0.56), (0.21666666666666667, 0.57), (0.21666666666666667, 0.58), (0.21583333333333332, 0.59), (0.21583333333333332, 0.6), (0.21333333333333335, 0.61), (0.21166666666666667, 0.62), (0.21, 0.63), (0.21, 0.64), (0.20916666666666667, 0.65), (0.20916666666666667, 0.66), (0.20833333333333334, 0.67), (0.20583333333333334, 0.68), (0.205, 0.69), (0.2025, 0.7), (0.2025, 0.71), (0.2, 0.72), (0.19833333333333333, 0.73), (0.1975, 0.74), (0.19416666666666665, 0.75), (0.19166666666666668, 0.76), (0.18916666666666668, 0.77), (0.18916666666666668, 0.78), (0.18833333333333332, 0.79), (0.18833333333333332, 0.8), (0.18583333333333332, 0.81), (0.18583333333333332, 0.82), (0.18333333333333332, 0.83), (0.18083333333333335, 0.84), (0.17833333333333334, 0.85), (0.17333333333333334, 0.86), (0.17166666666666666, 0.87), (0.16666666666666666, 0.88), (0.16, 0.89), (0.15833333333333333, 0.9), (0.1575, 0.91), (0.155, 0.92), (0.1525, 0.93), (0.15083333333333335, 0.94), (0.145, 0.95), (0.1425, 0.96), (0.13333333333333333, 0.97), (0.125, 0.98), (0.11416666666666667, 0.99), (0.0, 1.0), (1.0, 0.0), (0.4483333333333333, 0.01), (0.4083333333333333, 0.02), (0.38666666666666666, 0.03), (0.37083333333333335, 0.04), (0.35583333333333333, 0.05), (0.3466666666666667, 0.06), (0.33666666666666667, 0.07), (0.33, 0.08), (0.325, 0.09), (0.32083333333333336, 0.1), (0.3125, 0.11), (0.3075, 0.12), (0.30583333333333335, 0.13), (0.3025, 0.14), (0.3016666666666667, 0.15), (0.29583333333333334, 0.16), (0.2916666666666667, 0.17), (0.29083333333333333, 0.18), (0.28583333333333333, 0.19), (0.2825, 0.2), (0.2758333333333333, 0.21), (0.2733333333333333, 0.22), (0.2708333333333333, 0.23), (0.2708333333333333, 0.24), (0.2683333333333333, 0.25), (0.26666666666666666, 0.26), (0.26416666666666666, 0.27), (0.2625, 0.28), (0.26166666666666666, 0.29), (0.2608333333333333, 0.3), (0.25916666666666666, 0.31), (0.255, 0.32), (0.2525, 0.33), (0.2475, 0.34), (0.2475, 0.35), (0.2475, 0.36), (0.24416666666666667, 0.37), (0.24333333333333335, 0.38), (0.24166666666666667, 0.39), (0.24083333333333334, 0.4), (0.24, 0.41), (0.23833333333333334, 0.42), (0.23666666666666666, 0.43), (0.23666666666666666, 0.44), (0.23583333333333334, 0.45), (0.23083333333333333, 0.46), (0.22916666666666666, 0.47), (0.22666666666666666, 0.48), (0.22666666666666666, 0.49), (0.225, 0.5), (0.22333333333333333, 0.51), (0.22333333333333333, 0.52), (0.22333333333333333, 0.53), (0.2225, 0.54), (0.22083333333333333, 0.55), (0.22, 0.56), (0.21666666666666667, 0.57), (0.21666666666666667, 0.58), (0.21583333333333332, 0.59), (0.21583333333333332, 0.6), (0.21333333333333335, 0.61), (0.21166666666666667, 0.62), (0.21, 0.63), (0.21, 0.64), (0.20916666666666667, 0.65), (0.20916666666666667, 0.66), (0.20833333333333334, 0.67), (0.20583333333333334, 0.68), (0.205, 0.69), (0.2025, 0.7), (0.2025, 0.71), (0.2, 0.72), (0.19833333333333333, 0.73), (0.1975, 0.74), (0.19416666666666665, 0.75), (0.19166666666666668, 0.76), (0.18916666666666668, 0.77), (0.18916666666666668, 0.78), (0.18833333333333332, 0.79), (0.18833333333333332, 0.8), (0.18583333333333332, 0.81), (0.18583333333333332, 0.82), (0.18333333333333332, 0.83), (0.18083333333333335, 0.84), (0.17833333333333334, 0.85), (0.17333333333333334, 0.86), (0.17166666666666666, 0.87), (0.16666666666666666, 0.88), (0.16, 0.89), (0.15833333333333333, 0.9), (0.1575, 0.91), (0.155, 0.92), (0.1525, 0.93), (0.15083333333333335, 0.94), (0.145, 0.95), (0.1425, 0.96), (0.13333333333333333, 0.97), (0.125, 0.98), (0.11416666666666667, 0.99), (0.0, 1.0)]\n"
          ]
        }
      ],
      "source": [
        "print(GARs)"
      ]
    },
    {
      "cell_type": "markdown",
      "metadata": {
        "id": "3hfRNr8-F8z6"
      },
      "source": [
        "Imposter attempts"
      ]
    },
    {
      "cell_type": "code",
      "execution_count": null,
      "metadata": {
        "id": "vNgfSt8XAk3l"
      },
      "outputs": [],
      "source": [
        "#loop to compute all the pairs for imposter attempts\n",
        "for i in range(0,len(face_types)-1):\n",
        "\n",
        "  all_faces1 = os.listdir(data_path + '/' + str(i+1))\n",
        "\n",
        "  for j in range(i+1,len(face_types)):\n",
        "    \n",
        "    all_faces2 = os.listdir(data_path + '/' + str(j+1))\n",
        "\n",
        "    for m in range(0,len(all_faces1)):\n",
        "      for n in range(0,len(all_faces2)):\n",
        "        if(all_faces1[m]=='.DS_Store'):\n",
        "          continue\n",
        "        if(all_faces2[n]=='.DS_Store'):\n",
        "          continue\n",
        "        imposter_attempts[i].append((all_faces1[m],all_faces2[n]))"
      ]
    },
    {
      "cell_type": "code",
      "execution_count": null,
      "metadata": {
        "id": "FUSqPn6PGh9d"
      },
      "outputs": [],
      "source": [
        "#calculating the total number of imposter attempts\n",
        "for i in range(0, len(face_types)):\n",
        "  total_imposter_attempts = total_imposter_attempts + len(imposter_attempts[i])"
      ]
    },
    {
      "cell_type": "code",
      "execution_count": null,
      "metadata": {
        "id": "PHqFRnjIUAmT"
      },
      "outputs": [],
      "source": [
        "#helper function to extract the face type for a particular file\n",
        "def extractType(pairName):\n",
        "  splitString = pairName.split('-')\n",
        "  return splitString[0]"
      ]
    },
    {
      "cell_type": "code",
      "execution_count": null,
      "metadata": {
        "id": "WsIexjJ_Abh_"
      },
      "outputs": [],
      "source": [
        "#computing the similarity scores for the imposter pairs and storing it to a text file \n",
        "for type in range(0, len(face_types)):\n",
        "  \n",
        "  pair_list = imposter_attempts[type]\n",
        "  \n",
        "  for pair in pair_list:\n",
        "\n",
        "    file1 = str(FV_path + '/' + str(type+1) + \"/\" + str(pair[0]) + '.txt')\n",
        "    file2 = str(FV_path + '/' + str(extractType(pair[1])) + \"/\" + str(pair[1]) + '.txt')\n",
        "\n",
        "    #loading feature vectors from the files\n",
        "    FV1 = np.loadtxt(file1,dtype=float)\n",
        "    FV2 = np.loadtxt(file2,dtype=float)\n",
        "\n",
        "    #invoking the function to compute similarity score\n",
        "    similarity_score = similarity(FV1, FV2)\n",
        "\n",
        "    type_save_path = str(imposter_path + '/' + str(type+1))\n",
        "\n",
        "    if path.exists(type_save_path) == False:\n",
        "      os.mkdir(type_save_path)\n",
        "\n",
        "    #writing the similarity score to a text file\n",
        "    save_score_file= str(type_save_path + '/' + str(pair[0]) + '_' + str(pair[1]) + '.txt')\n",
        "    with open(save_score_file,\"w\") as f:\n",
        "      f.write(str(similarity_score))"
      ]
    },
    {
      "cell_type": "code",
      "execution_count": null,
      "metadata": {
        "id": "8kNo17KsVoIQ"
      },
      "outputs": [],
      "source": [
        "#loop for calcutaing the number of imposter attempts which have a similarity score greater than threshold\n",
        "for iteration in range(0,101):\n",
        "\n",
        "  threshold = iteration / 100\n",
        "  current_count = 0\n",
        "\n",
        "  for type in range(1, len(face_types)-1):\n",
        "    type_scores = os.listdir(imposter_path + '/' + str(type))\n",
        "    for score_file in type_scores:\n",
        "      filename = imposter_path + '/' + str(type) + '/' + score_file\n",
        "      with open(filename,'r') as f:\n",
        "        score = float(f.read())\n",
        "        if (score >= threshold):\n",
        "          current_count = current_count + 1\n",
        "\n",
        "  num_of_imposter_passed.append((current_count,threshold))"
      ]
    },
    {
      "cell_type": "code",
      "execution_count": null,
      "metadata": {
        "id": "fa1Rs-zlWE9L"
      },
      "outputs": [],
      "source": [
        "#computing the FAR values for a particular threshold\n",
        "for num_passed_tuple in num_of_imposter_passed:\n",
        "  \n",
        "  num = num_passed_tuple[0]\n",
        "  threshold = num_passed_tuple[1]\n",
        "\n",
        "  FAR = num / total_imposter_attempts\n",
        "\n",
        "  FARs.append((FAR, threshold))"
      ]
    },
    {
      "cell_type": "code",
      "execution_count": null,
      "metadata": {
        "id": "wFCfncoTWNYh"
      },
      "outputs": [],
      "source": [
        "#computing the GRR values for a particular threshold\n",
        "for FAR_tuple in GARs:\n",
        "  FAR = FAR_tuple[0]\n",
        "  threshold = FAR_tuple[1]\n",
        "  \n",
        "  GRR = 1 - FAR\n",
        "\n",
        "  GRRs.append((GRR, threshold))"
      ]
    },
    {
      "cell_type": "code",
      "execution_count": null,
      "metadata": {
        "colab": {
          "base_uri": "https://localhost:8080/"
        },
        "id": "BkacP7eKWmOV",
        "outputId": "226bcb53-556d-4446-9da5-c0622df6cfb3"
      },
      "outputs": [
        {
          "name": "stdout",
          "output_type": "stream",
          "text": [
            "[(0.9999497487437186, 0.0), (0.1748146984924623, 0.01), (0.14951005025125627, 0.02), (0.13659547738693467, 0.03), (0.12864321608040202, 0.04), (0.12262248743718593, 0.05), (0.11774811557788945, 0.06), (0.11186871859296482, 0.07), (0.10722361809045226, 0.08), (0.10342336683417086, 0.09), (0.0995037688442211, 0.1), (0.09451947236180905, 0.11), (0.09264133165829146, 0.12), (0.09143844221105528, 0.13), (0.08787374371859297, 0.14), (0.08701947236180904, 0.15), (0.08583542713567839, 0.16), (0.08465452261306533, 0.17), (0.08320665829145729, 0.18), (0.08187185929648241, 0.19), (0.08120288944723618, 0.2), (0.07946293969849247, 0.21), (0.07892902010050251, 0.22), (0.07782663316582915, 0.23), (0.07733354271356783, 0.24), (0.07691268844221105, 0.25), (0.0760929648241206, 0.26), (0.07562814070351759, 0.27), (0.07424937185929648, 0.28), (0.07386306532663317, 0.29), (0.07339824120603015, 0.3), (0.07209484924623115, 0.31), (0.07064698492462311, 0.32), (0.07031721105527639, 0.33), (0.06924937185929649, 0.34), (0.06889761306532663, 0.35), (0.06832286432160804, 0.36), (0.06798052763819096, 0.37), (0.06728329145728643, 0.38), (0.06694095477386934, 0.39), (0.06673680904522614, 0.4), (0.066196608040201, 0.41), (0.06603329145728644, 0.42), (0.06581344221105527, 0.43), (0.06556846733668342, 0.44), (0.0651821608040201, 0.45), (0.06379396984924623, 0.46), (0.06353643216080403, 0.47), (0.06289886934673367, 0.48), (0.062220477386934675, 0.49), (0.061124371859296485, 0.5), (0.06084798994974874, 0.51), (0.060109924623115575, 0.52), (0.05956658291457286, 0.53), (0.05935615577889447, 0.54), (0.05840452261306533, 0.55), (0.05775125628140704, 0.56), (0.0575785175879397, 0.57), (0.057446608040201005, 0.58), (0.056856155778894475, 0.59), (0.056670854271356784, 0.6), (0.05648555276381909, 0.61), (0.05638819095477387, 0.62), (0.05621545226130653, 0.63), (0.05594221105527638, 0.64), (0.055065954773869344, 0.65), (0.05487751256281407, 0.66), (0.054654522613065325, 0.67), (0.053586683417085425, 0.68), (0.05334798994974874, 0.69), (0.052766959798994977, 0.7), (0.052578517587939695, 0.71), (0.052399497487437184, 0.72), (0.052201633165829146, 0.73), (0.05123743718592965, 0.74), (0.0510678391959799, 0.75), (0.05084170854271357, 0.76), (0.05064698492462311, 0.77), (0.05046482412060301, 0.78), (0.05027324120603015, 0.79), (0.04998743718592965, 0.8), (0.0489572864321608, 0.81), (0.0479962311557789, 0.82), (0.04755967336683417, 0.83), (0.04690954773869347, 0.84), (0.046476130653266334, 0.85), (0.044751884422110554, 0.86), (0.04438128140703518, 0.87), (0.04280778894472362, 0.88), (0.04183103015075377, 0.89), (0.04124371859296482, 0.9), (0.040511934673366834, 0.91), (0.040248115577889446, 0.92), (0.039321608040201, 0.93), (0.03892587939698493, 0.94), (0.0374214824120603, 0.95), (0.03560615577889447, 0.96), (0.034013819095477384, 0.97), (0.032063442211055275, 0.98), (0.028866206030150755, 0.99), (0.0, 1.0)]\n"
          ]
        }
      ],
      "source": [
        "print(FARs)"
      ]
    },
    {
      "cell_type": "code",
      "execution_count": null,
      "metadata": {
        "colab": {
          "base_uri": "https://localhost:8080/"
        },
        "id": "WlyHd7B6fCTU",
        "outputId": "a7578a23-b1a5-45b6-8363-b1353dfb55e0"
      },
      "outputs": [
        {
          "name": "stdout",
          "output_type": "stream",
          "text": [
            "318400\n"
          ]
        }
      ],
      "source": [
        "print(total_imposter_attempts)"
      ]
    },
    {
      "cell_type": "markdown",
      "metadata": {
        "id": "twyVeeVsEZ9I"
      },
      "source": [
        "#3. Biometric Evaluation"
      ]
    },
    {
      "cell_type": "markdown",
      "metadata": {
        "id": "U2MbdKppGF7I"
      },
      "source": [
        "DET graph"
      ]
    },
    {
      "cell_type": "code",
      "execution_count": null,
      "metadata": {
        "id": "FHjMdXU0WW8r"
      },
      "outputs": [],
      "source": [
        "#computing the x-coordinates for DET values\n",
        "for i in range(0, len(FARs)):\n",
        "  DET_x.append(FARs[i][0]*100)\n",
        "\n",
        "#computing the y-coordinates for DET values\n",
        "for i in range(0, len(FRRs)):\n",
        "  DET_y.append(FRRs[i][0])"
      ]
    },
    {
      "cell_type": "code",
      "execution_count": null,
      "metadata": {
        "colab": {
          "base_uri": "https://localhost:8080/",
          "height": 472
        },
        "id": "3GG9RTiuYpJ9",
        "outputId": "c3dad8d5-ee52-4b18-f76b-6c0025070b96"
      },
      "outputs": [
        {
          "data": {
            "image/png": "[encoded data removed]",
            "text/plain": [
              "<Figure size 640x480 with 1 Axes>"
            ]
          },
          "metadata": {},
          "output_type": "display_data"
        }
      ],
      "source": [
        "plt.plot(DET_x, DET_y, color='green', linestyle='dashed', linewidth = 1)\n",
        "  \n",
        "#setting x and y axis range\n",
        "plt.ylim(0,100)\n",
        "plt.xlim(0,100)\n",
        "  \n",
        "#naming the x axis\n",
        "plt.xlabel('False Accept Rate (FAR)')\n",
        "#naming the y axis\n",
        "plt.ylabel('%False Reject Rate (FRR)')\n",
        "  \n",
        "#giving a title to the graph\n",
        "plt.title('DET graph')\n",
        "  \n",
        "#function to show the plot\n",
        "plt.show()"
      ]
    },
    {
      "cell_type": "markdown",
      "metadata": {
        "id": "dFotU52oGH87"
      },
      "source": [
        "ROC graph"
      ]
    },
    {
      "cell_type": "code",
      "execution_count": null,
      "metadata": {
        "id": "8SsZ6koRZIG4"
      },
      "outputs": [],
      "source": [
        "#computing the x-coordinates for ROC values\n",
        "for i in range(0, len(FARs)):\n",
        "  ROC_x.append(FARs[i][0]*100)\n",
        "\n",
        "#computing the y-coordinates for ROC values\n",
        "for i in range(0, len(GARs)):\n",
        "  ROC_y.append(GARs[i][0])"
      ]
    },
    {
      "cell_type": "code",
      "execution_count": null,
      "metadata": {
        "colab": {
          "base_uri": "https://localhost:8080/",
          "height": 472
        },
        "id": "s-JF-RpFZYmk",
        "outputId": "86a95a35-9a06-4cc6-f477-1910310d5235"
      },
      "outputs": [
        {
          "data": {
            "image/png": "[encoded data removed]",
            "text/plain": [
              "<Figure size 640x480 with 1 Axes>"
            ]
          },
          "metadata": {},
          "output_type": "display_data"
        }
      ],
      "source": [
        "plt.plot(ROC_x, ROC_y, color='green', linestyle='dashed', linewidth = 1)\n",
        "  \n",
        "#setting x and y axis range\n",
        "plt.ylim(0,100)\n",
        "plt.xlim(0,100)\n",
        "  \n",
        "#naming the x axis\n",
        "plt.xlabel('False Accept Rate (FAR)')\n",
        "#naming the y axis\n",
        "plt.ylabel('%Genuine Accept Rate (GAR)')\n",
        "  \n",
        "#giving a title to the graph\n",
        "plt.title('ROC graph')\n",
        "  \n",
        "#function to show the plot\n",
        "plt.show()"
      ]
    },
    {
      "cell_type": "markdown",
      "metadata": {
        "id": "8aJGZpJiGLDu"
      },
      "source": [
        "EER"
      ]
    },
    {
      "cell_type": "code",
      "execution_count": null,
      "metadata": {
        "id": "gku8RH-naV-0"
      },
      "outputs": [],
      "source": [
        "#loop to store all the FAR values to a list\n",
        "for i in range(0, 101):\n",
        "  FAR_vals.append(FARs[i][0])\n",
        "\n",
        "#loop to store all the FRR values to a list\n",
        "for i in range(0, 101):\n",
        "  FRR_vals.append(FRRs[i][0])\n",
        "\n",
        "#loop to store all the possible threshold values to a list\n",
        "for i in range(0,101):\n",
        "  threshold = i / 100\n",
        "  threshold_vals.append(threshold)"
      ]
    },
    {
      "cell_type": "code",
      "execution_count": null,
      "metadata": {
        "colab": {
          "base_uri": "https://localhost:8080/",
          "height": 430
        },
        "id": "XMwSjRPYcTxA",
        "outputId": "6b2da621-e892-4cf6-9d50-d0c9fb99f5aa"
      },
      "outputs": [
        {
          "data": {
            "image/png": "[encoded data removed]",
            "text/plain": [
              "<Figure size 640x480 with 1 Axes>"
            ]
          },
          "metadata": {},
          "output_type": "display_data"
        }
      ],
      "source": [
        "plt.plot(threshold_vals, FAR_vals, 'r--', label='FAR')\n",
        "plt.plot(threshold_vals, FRR_vals, 'g--', label='FRR') \n",
        "\n",
        "legend = plt.legend(loc='upper center', shadow=True, fontsize='x-large')\n",
        "\n",
        "#put a background color on the legend.\n",
        "legend.get_frame().set_facecolor('C0')\n",
        "\n",
        "#function to show the plot\n",
        "plt.show()"
      ]
    },
    {
      "cell_type": "markdown",
      "metadata": {
        "id": "QkPR6eTYGPoF"
      },
      "source": [
        "Distribution of scores by attempt type"
      ]
    },
    {
      "cell_type": "code",
      "execution_count": null,
      "metadata": {
        "id": "eis4QEJeeKhP"
      },
      "outputs": [],
      "source": [
        "#calculating the number of genuine and imposter attempts for every score value\n",
        "for i in range(0, 101):\n",
        "  imposter_comparisons.append(0)\n",
        "  genuine_comparisons.append(0)\n",
        "  scores.append(i / 100)\n",
        "\n",
        "#genuine attempts\n",
        "genuine_types = os.listdir(genuine_path)\n",
        "\n",
        "for type in genuine_types:\n",
        "\n",
        "  all_scores = os.listdir(genuine_path + '/' + type)\n",
        "\n",
        "  for scoreFile in all_scores:\n",
        "    filename = genuine_path + '/' + type + '/' + scoreFile\n",
        "    with open(filename,'r') as f:\n",
        "      score = float(f.read())\n",
        "      score_val = int(score * 100)\n",
        "      genuine_comparisons[score_val] += 1\n",
        "\n",
        "#imposter attempts\n",
        "imposter_types = os.listdir(imposter_path)\n",
        "\n",
        "for type in imposter_types:\n",
        "\n",
        "  all_scores = os.listdir(imposter_path + '/' + type)\n",
        "\n",
        "  for scoreFile in all_scores:\n",
        "    filename = imposter_path + '/' + type + '/' + scoreFile\n",
        "    with open(filename,'r') as f:\n",
        "      score = float(f.read())\n",
        "      score_val = int(score * 100)\n",
        "      imposter_comparisons[score_val] += 1"
      ]
    },
    {
      "cell_type": "code",
      "execution_count": null,
      "metadata": {
        "colab": {
          "base_uri": "https://localhost:8080/",
          "height": 472
        },
        "id": "QFicnIWxjPT6",
        "outputId": "c76a5ede-40ae-4491-bc41-8f59acbb6a93"
      },
      "outputs": [
        {
          "data": {
            "image/png": "[encoded data removed]",
            "text/plain": [
              "<Figure size 640x480 with 1 Axes>"
            ]
          },
          "metadata": {},
          "output_type": "display_data"
        }
      ],
      "source": [
        "#plotting both the curves simultaneously\n",
        "plt.plot(scores, imposter_comparisons, color='r', label='imposter attempts')\n",
        "plt.plot(scores, genuine_comparisons, color='g', label='genuine attempts')\n",
        "  \n",
        "#naming the x-axis, y-axis and the whole graph\n",
        "plt.xlabel(\"Score\")\n",
        "plt.ylabel(\"#Comparisons\")\n",
        "plt.title(\"Distribution of scores by attempt type\")\n",
        "\n",
        "plt.ylim(0,300000)\n",
        "  \n",
        "#adding legend, which helps us recognize the curve according to its color\n",
        "plt.legend()\n",
        "  \n",
        "#to load the display window\n",
        "plt.show()"
      ]
    }
  ]
}